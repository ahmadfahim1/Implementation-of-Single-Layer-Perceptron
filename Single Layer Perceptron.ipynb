{
 "cells": [
  {
   "cell_type": "code",
   "execution_count": 44,
   "id": "1a0d7b52-29dd-4858-9a0d-09708172e5a5",
   "metadata": {},
   "outputs": [],
   "source": [
    "import numpy as np\n",
    "from scipy.special import expit\n",
    "import sys\n",
    "import random"
   ]
  },
  {
   "cell_type": "code",
   "execution_count": 45,
   "id": "e4585666-d6dd-4945-9acf-0c8d28ff3e08",
   "metadata": {},
   "outputs": [],
   "source": [
    "x1 = np.array([0,0,0,0,1,1,1,1])\n",
    "x2 = np.array([0,0,1,1,0,0,1,1])\n",
    "x3 = np.array([0,1,0,1,0,1,0,1])"
   ]
  },
  {
   "cell_type": "code",
   "execution_count": 54,
   "id": "0a556f0f-507e-4df8-86fc-6df8f95b551a",
   "metadata": {},
   "outputs": [
    {
     "name": "stdout",
     "output_type": "stream",
     "text": [
      "Select Operation OR for (x1 ∨ x2 ∨ x3) || AND for (x1 ∧ x2 ∧ x3) || OTHER for ((x1 ∧ ¬x2) ∨ (¬x1 ∧ x2)) ∧ x3\n"
     ]
    },
    {
     "name": "stdin",
     "output_type": "stream",
     "text": [
      "Give operation:  OR\n"
     ]
    },
    {
     "name": "stdout",
     "output_type": "stream",
     "text": [
      "Output for operation x1 ∨ x2 ∨ x3\n",
      " Ground Truth Value : [0 1 1 1 1 1 1 1]\n",
      " Final Predicted Value : [0.361 0.617 0.781 0.91  0.617 0.821 0.91  0.967]\n",
      "Select Operation OR for (x1 ∨ x2 ∨ x3) || AND for (x1 ∧ x2 ∧ x3) || OTHER for ((x1 ∧ ¬x2) ∨ (¬x1 ∧ x2)) ∧ x3\n"
     ]
    },
    {
     "name": "stdin",
     "output_type": "stream",
     "text": [
      "Give operation:  s\n"
     ]
    },
    {
     "ename": "SystemExit",
     "evalue": "",
     "output_type": "error",
     "traceback": [
      "An exception has occurred, use %tb to see the full traceback.\n",
      "\u001b[1;31mSystemExit\u001b[0m\n"
     ]
    }
   ],
   "source": [
    "while True:\n",
    "    print(\"Select Operation OR for (x1 ∨ x2 ∨ x3) || AND for (x1 ∧ x2 ∧ x3) || OTHER for ((x1 ∧ ¬x2) ∨ (¬x1 ∧ x2)) ∧ x3\")\n",
    "    operation = input(\"Give operation: \")\n",
    "    if operation == \"OR\":\n",
    "        y = np.array([0,1,1,1,1,1,1,1])\n",
    "        epochs = 1000\n",
    "        lr = 0.1\n",
    "        print(\"Output for operation x1 ∨ x2 ∨ x3\")\n",
    "    elif operation ==\"AND\":\n",
    "        y = np.array([0,0,0,0,0,0,0,1])\n",
    "        epochs = 10000\n",
    "        lr = 0.1\n",
    "        print(\"Output for operation x1 ∧ x2 ∧ x3\")\n",
    "    elif operation == \"OTHER\":\n",
    "        y = np.array([0,0,0,1,0,1,0,0])\n",
    "        epochs = 4000\n",
    "        lr = 0.15\n",
    "        print(\"Output for operation ((x1 ∧ ¬x2) ∨ (¬x1 ∧ x2)) ∧ x3\")\n",
    "    else:\n",
    "        sys.exit()\n",
    "    w1_t = 0\n",
    "    w2_t = 0\n",
    "    w3_t = 0\n",
    "    w0_t = 0\n",
    "    \n",
    "     # learning rate alpha\n",
    "    N = len(x1)\n",
    "    \n",
    "    for i in range(epochs):\n",
    "        yhat = expit(w1_t*x1+w2_t+w3_t*x3+w0_t)\n",
    "        #print(yhat)\n",
    "        cal_w1 = 2/N * np.sum((y-yhat)* (-yhat*(1-yhat)*x1))\n",
    "        cal_w2 = 2/N * np.sum((y-yhat)* (-yhat*(1-yhat)*x2))\n",
    "        cal_w3 = 2/N * np.sum((y-yhat)* (-yhat*(1-yhat)*x3))\n",
    "        cal_w0 = 2/N * np.sum((y - yhat) * (-yhat * (1 - yhat) * 1))\n",
    "    \n",
    "        w1_t = w1_t - lr* cal_w1\n",
    "        w2_t = w2_t - lr* cal_w2\n",
    "        w3_t = w3_t - lr* cal_w3\n",
    "        w0_t = w0_t - lr * cal_w0\n",
    "        #print(w1_t)\n",
    "        #print(w2_t)\n",
    "        #print(w3_t)\n",
    "    \n",
    "        #if np.mod(i,20)==0 or i==1:\n",
    "        y_pred = expit(w1_t*x1 + w2_t*x2 + w3_t*x3 + w0_t)\n",
    "            #mse = np.sum((y-y_pred)**2)/len(y)\n",
    "            #print(f\"Epoch = {i}, mse = {mse}\")\n",
    "    \n",
    "    np.set_printoptions(precision=3,suppress=True)\n",
    "    print(f\" Ground Truth Value : {y}\")\n",
    "    print(f\" Final Predicted Value : {y_pred}\")\n",
    "    \n",
    "        \n",
    "        "
   ]
  },
  {
   "cell_type": "code",
   "execution_count": null,
   "id": "d4cc0aed-6904-47cd-a1cc-d07721b0639e",
   "metadata": {},
   "outputs": [],
   "source": []
  }
 ],
 "metadata": {
  "kernelspec": {
   "display_name": "Python 3 (ipykernel)",
   "language": "python",
   "name": "python3"
  },
  "language_info": {
   "codemirror_mode": {
    "name": "ipython",
    "version": 3
   },
   "file_extension": ".py",
   "mimetype": "text/x-python",
   "name": "python",
   "nbconvert_exporter": "python",
   "pygments_lexer": "ipython3",
   "version": "3.11.8"
  }
 },
 "nbformat": 4,
 "nbformat_minor": 5
}
